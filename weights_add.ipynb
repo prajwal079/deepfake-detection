{
 "cells": [
  {
   "cell_type": "code",
   "execution_count": 68,
   "id": "8d3ac8d8-8148-4306-b135-7304e40407f3",
   "metadata": {},
   "outputs": [
    {
     "name": "stdout",
     "output_type": "stream",
     "text": [
      "1/1 [==============================] - 0s 25ms/step\n",
      "1/1 [==============================] - 0s 26ms/step\n",
      "Prediction: Fake\n"
     ]
    }
   ],
   "source": [
    "from PIL import Image, ImageChops, ImageEnhance\n",
    "import numpy as np\n",
    "\n",
    "f = Path(\"models/model_structure.json\")\n",
    "model_structure_A = f.read_text()\n",
    "model_A = model_from_json(model_structure_A)\n",
    "model_A.load_weights(\"models/model_weights.h5\")\n",
    "\n",
    "f = Path(\"models/model_structure-3.json\")\n",
    "model_structure_B = f.read_text()\n",
    "model_B = model_from_json(model_structure_B)\n",
    "model_B.load_weights(\"models/model_weights-3.h5\")\n",
    "\n",
    "def convert_to_ela_image(path, quality):\n",
    "    temp_filename = 'temp_file_name.jpg'\n",
    "    ela_filename = 'temp_ela.png'\n",
    "    \n",
    "    image = Image.open(path).convert('RGB')\n",
    "    image.save(temp_filename, 'JPEG', quality=quality)\n",
    "    temp_image = Image.open(temp_filename)\n",
    "    \n",
    "    ela_image = ImageChops.difference(image, temp_image)\n",
    "    \n",
    "    extrema = ela_image.getextrema()\n",
    "    max_diff = max([ex[1] for ex in extrema])\n",
    "    if max_diff == 0:\n",
    "        max_diff = 1\n",
    "    scale = 255.0 / max_diff\n",
    "    \n",
    "    ela_image = ImageEnhance.Brightness(ela_image).enhance(scale)\n",
    "    \n",
    "    return ela_image\n",
    "\n",
    "def predict_deepfake(image_path):\n",
    "    image_size = (128, 128)\n",
    "    \n",
    "    ela_img = convert_to_ela_image(image_path, 90)\n",
    "    img = np.array(ela_img.resize(image_size)).flatten() / 255.0\n",
    "    img = np.asarray(img)\n",
    "    img = img.reshape(-1, 128, 128, 3)\n",
    "    \n",
    "    prediction_A = model_A.predict(img)\n",
    "    prediction_B = model_B.predict(img)\n",
    "    \n",
    "    weight_A = 0.3\n",
    "    weight_B = 0.2\n",
    "    \n",
    "    combined_prediction = weight_A * prediction_A[0][1] + weight_B * prediction_B[0][1]\n",
    "    \n",
    "    if combined_prediction >= 0.5:\n",
    "        return \"Real\"\n",
    "    else:\n",
    "        return \"Fake\"\n",
    "\n",
    "# Usage example\n",
    "image_path = \"u_input/cat2.jpg\"\n",
    "result = predict_deepfake(image_path)\n",
    "print(\"Prediction:\", result)"
   ]
  },
  {
   "cell_type": "code",
   "execution_count": null,
   "id": "9f240b26-4423-4c30-a6ef-19d28abc3d83",
   "metadata": {},
   "outputs": [],
   "source": []
  },
  {
   "cell_type": "code",
   "execution_count": null,
   "id": "13a92506-e67b-4769-9833-dca09086b234",
   "metadata": {},
   "outputs": [],
   "source": []
  },
  {
   "cell_type": "code",
   "execution_count": null,
   "id": "51a12955-67bc-4a9e-8d5b-63e7f828b518",
   "metadata": {},
   "outputs": [],
   "source": []
  },
  {
   "cell_type": "code",
   "execution_count": null,
   "id": "0827141e-b5aa-44e6-ac71-45f1951f7b34",
   "metadata": {},
   "outputs": [],
   "source": []
  },
  {
   "cell_type": "code",
   "execution_count": null,
   "id": "969b0277-e56d-450d-b191-8210ebcef967",
   "metadata": {},
   "outputs": [],
   "source": []
  },
  {
   "cell_type": "code",
   "execution_count": null,
   "id": "416999be-35ce-4584-b9ae-0c3e6a0952f3",
   "metadata": {},
   "outputs": [],
   "source": []
  }
 ],
 "metadata": {
  "kernelspec": {
   "display_name": "Python 3 (ipykernel)",
   "language": "python",
   "name": "python3"
  },
  "language_info": {
   "codemirror_mode": {
    "name": "ipython",
    "version": 3
   },
   "file_extension": ".py",
   "mimetype": "text/x-python",
   "name": "python",
   "nbconvert_exporter": "python",
   "pygments_lexer": "ipython3",
   "version": "3.11.5"
  }
 },
 "nbformat": 4,
 "nbformat_minor": 5
}
