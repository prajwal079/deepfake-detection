{
 "cells": [
  {
   "cell_type": "code",
   "execution_count": 1,
   "id": "9c752e1b-9bb9-44fd-a20b-ca7b9c4af413",
   "metadata": {},
   "outputs": [],
   "source": [
    "#import necessary libraries\n",
    "\n",
    "import numpy as np\n",
    "import matplotlib.pyplot as plt\n",
    "%matplotlib inline\n",
    "np.random.seed(2)\n",
    "from sklearn.model_selection import train_test_split\n",
    "from sklearn.metrics import confusion_matrix\n",
    "from pathlib import Path\n",
    "import h5py\n",
    "from keras.utils.np_utils import to_categorical\n",
    "from keras.models import Sequential\n",
    "from keras.layers import Dense, Flatten, Conv2D, MaxPool2D, Dropout\n",
    "from keras.optimizers import Adam\n",
    "from keras.preprocessing.image import ImageDataGenerator\n",
    "import itertools"
   ]
  },
  {
   "cell_type": "code",
   "execution_count": 2,
   "id": "826f2f40-6b64-40bf-8588-8bfb0e8e4cba",
   "metadata": {},
   "outputs": [],
   "source": [
    "from PIL import Image\n",
    "import os\n",
    "from pylab import *\n",
    "import re\n",
    "from PIL import Image, ImageChops, ImageEnhance\n",
    "import tensorflow as tf\n",
    "from tensorflow.keras.utils import Sequence\n",
    "tf.compat.v1.logging.set_verbosity(tf.compat.v1.logging.ERROR)"
   ]
  },
  {
   "cell_type": "code",
   "execution_count": 3,
   "id": "6463a2ed-0ddf-4307-9d19-15a9024473bb",
   "metadata": {},
   "outputs": [
    {
     "name": "stdout",
     "output_type": "stream",
     "text": [
      "2.12.0\n",
      "2.12.0\n"
     ]
    }
   ],
   "source": [
    "print(tf.__version__)\n",
    "import keras\n",
    "print(keras.__version__)\n",
    "from tensorflow.keras.layers import BatchNormalization"
   ]
  },
  {
   "cell_type": "code",
   "execution_count": 4,
   "id": "5ff7b476-a787-4ed6-a6b1-daea6c71c190",
   "metadata": {},
   "outputs": [],
   "source": [
    "def convert_to_ela_image(path, quality):\n",
    "    temp_filename = 'temp_file_name.jpg'\n",
    "    ela_filename = 'temp_ela.png'\n",
    "    \n",
    "    image = Image.open(path).convert('RGB')\n",
    "    image.save(temp_filename, 'JPEG', quality = quality)\n",
    "    temp_image = Image.open(temp_filename)\n",
    "    \n",
    "    ela_image = ImageChops.difference(image, temp_image)\n",
    "    \n",
    "    extrema = ela_image.getextrema()\n",
    "    max_diff = max([ex[1] for ex in extrema])\n",
    "    if max_diff == 0:\n",
    "        max_diff = 1\n",
    "    scale = 255.0 / max_diff\n",
    "    \n",
    "    ela_image = ImageEnhance.Brightness(ela_image).enhance(scale)\n",
    "    \n",
    "    return ela_image"
   ]
  },
  {
   "cell_type": "code",
   "execution_count": 5,
   "id": "dce73cc5-87c3-42a7-b0f0-888b29580d1b",
   "metadata": {},
   "outputs": [],
   "source": [
    "image_size = (128, 128)"
   ]
  },
  {
   "cell_type": "code",
   "execution_count": 6,
   "id": "e4fd7db0-2cbd-4d27-99e4-980daa8bbb47",
   "metadata": {},
   "outputs": [],
   "source": [
    "def prepare_image(image_path):\n",
    "    return np.array(convert_to_ela_image(image_path, 90).resize(image_size)).flatten() / 255.0"
   ]
  },
  {
   "cell_type": "code",
   "execution_count": 7,
   "id": "495b63a2-2965-4502-adee-90fc3d205d5a",
   "metadata": {},
   "outputs": [],
   "source": [
    "X = [] # ELA converted images\n",
    "Y = [] # 0 for fake, 1 for real"
   ]
  },
  {
   "cell_type": "code",
   "execution_count": 8,
   "id": "91f62d8d-0270-45b7-b6dc-5686d2d6f9b8",
   "metadata": {},
   "outputs": [
    {
     "name": "stdout",
     "output_type": "stream",
     "text": [
      "Processing 500 images\n",
      "Processing 1000 images\n",
      "Processing 1500 images\n",
      "Processing 2000 images\n",
      "Processing 2500 images\n",
      "Processing 3000 images\n",
      "Processing 3500 images\n",
      "Processing 4000 images\n",
      "Processing 4500 images\n",
      "Processing 5000 images\n",
      "Processing 5500 images\n",
      "Processing 6000 images\n",
      "Processing 6500 images\n",
      "Processing 7000 images\n",
      "Processing 7500 images\n",
      "Processing 8000 images\n"
     ]
    },
    {
     "name": "stderr",
     "output_type": "stream",
     "text": [
      "/opt/anaconda3/envs/deepfake/lib/python3.11/site-packages/PIL/Image.py:981: UserWarning: Palette images with Transparency expressed in bytes should be converted to RGBA images\n",
      "  warnings.warn(\n"
     ]
    },
    {
     "name": "stdout",
     "output_type": "stream",
     "text": [
      "Processing 8500 images\n",
      "Processing 9000 images\n",
      "Processing 9500 images\n",
      "Processing 10000 images\n",
      "Processing 10500 images\n",
      "Processing 11000 images\n",
      "Processing 11500 images\n",
      "Processing 12000 images\n",
      "Processing 12500 images\n",
      "Processing 13000 images\n",
      "Processing 13500 images\n",
      "Processing 14000 images\n",
      "Processing 14500 images\n",
      "Processing 15000 images\n",
      "Processing 15500 images\n",
      "Processing 16000 images\n",
      "Processing 16500 images\n",
      "Processing 17000 images\n",
      "Processing 17500 images\n",
      "Processing 18000 images\n",
      "Processing 18500 images\n",
      "Processing 19000 images\n",
      "Processing 19500 images\n",
      "19703 19703\n"
     ]
    }
   ],
   "source": [
    "import random\n",
    "path = 'new-dataset/real/'\n",
    "for dirname, _, filenames in os.walk(path):\n",
    "    for filename in filenames:\n",
    "        if filename.endswith('jpg') or filename.endswith('png'):\n",
    "            full_path = os.path.join(dirname, filename)\n",
    "            X.append(prepare_image(full_path))\n",
    "            Y.append(1)\n",
    "            if len(Y) % 500 == 0:\n",
    "                print(f'Processing {len(Y)} images')\n",
    "\n",
    "#random.shuffle(X)\n",
    "#X = X[:2100]\n",
    "#Y = Y[:2100]\n",
    "print(len(X), len(Y))"
   ]
  },
  {
   "cell_type": "code",
   "execution_count": 9,
   "id": "367f3164-c675-4e6d-b7fd-1a6e2c9826be",
   "metadata": {},
   "outputs": [
    {
     "name": "stdout",
     "output_type": "stream",
     "text": [
      "Processing 20000 images\n",
      "Processing 20500 images\n",
      "Processing 21000 images\n",
      "Processing 21500 images\n",
      "Processing 22000 images\n",
      "Processing 22500 images\n",
      "Processing 23000 images\n",
      "Processing 23500 images\n",
      "Processing 24000 images\n",
      "Processing 24500 images\n",
      "Processing 25000 images\n",
      "Processing 25500 images\n",
      "Processing 26000 images\n",
      "Processing 26500 images\n",
      "Processing 27000 images\n",
      "Processing 27500 images\n",
      "Processing 28000 images\n",
      "Processing 28500 images\n",
      "Processing 29000 images\n",
      "Processing 29500 images\n",
      "Processing 30000 images\n",
      "Processing 30500 images\n",
      "Processing 31000 images\n",
      "Processing 31500 images\n",
      "Processing 32000 images\n",
      "Processing 32500 images\n",
      "Processing 33000 images\n",
      "Processing 33500 images\n",
      "Processing 34000 images\n",
      "Processing 34500 images\n",
      "Processing 35000 images\n",
      "Processing 35500 images\n",
      "Processing 36000 images\n",
      "Processing 36500 images\n",
      "Processing 37000 images\n",
      "Processing 37500 images\n",
      "Processing 38000 images\n",
      "Processing 38500 images\n",
      "38833 38833\n"
     ]
    }
   ],
   "source": [
    "path = 'new-dataset/fake/'\n",
    "for dirname, _, filenames in os.walk(path):\n",
    "    for filename in filenames:\n",
    "        if filename.endswith('jpg') or filename.endswith('png'):\n",
    "            full_path = os.path.join(dirname, filename)\n",
    "            X.append(prepare_image(full_path))\n",
    "            Y.append(0)\n",
    "            if len(Y) % 500 == 0:\n",
    "                print(f'Processing {len(Y)} images')\n",
    "\n",
    "print(len(X), len(Y))"
   ]
  },
  {
   "cell_type": "code",
   "execution_count": 10,
   "id": "46523b94-88ae-4f5b-b432-aec4e3b39673",
   "metadata": {},
   "outputs": [],
   "source": [
    "X = np.array(X)\n",
    "Y = to_categorical(Y, 2)\n",
    "X = X.reshape(-1, 128, 128, 3)"
   ]
  },
  {
   "cell_type": "code",
   "execution_count": 11,
   "id": "6ab53f5c-446a-42dc-8128-20ddb32eb666",
   "metadata": {},
   "outputs": [
    {
     "name": "stdout",
     "output_type": "stream",
     "text": [
      "31066 31066\n",
      "7767 7767\n"
     ]
    }
   ],
   "source": [
    "X_train, X_val, Y_train, Y_val = train_test_split(X, Y, test_size = 0.2, random_state = 5)\n",
    "X = X.reshape(-1, 1, 1, 1)\n",
    "print(len(X_train), len(Y_train))\n",
    "print(len(X_val), len(Y_val))"
   ]
  },
  {
   "cell_type": "code",
   "execution_count": 16,
   "id": "de39bf22-396b-4548-ab1c-9854b97bea99",
   "metadata": {},
   "outputs": [
    {
     "name": "stdout",
     "output_type": "stream",
     "text": [
      "Model: \"sequential_3\"\n",
      "_________________________________________________________________\n",
      " Layer (type)                Output Shape              Param #   \n",
      "=================================================================\n",
      " batch_normalization_7 (Batc  (None, 128, 128, 3)      12        \n",
      " hNormalization)                                                 \n",
      "                                                                 \n",
      " conv2d_6 (Conv2D)           (None, 128, 128, 16)      448       \n",
      "                                                                 \n",
      " max_pooling2d_6 (MaxPooling  (None, 64, 64, 16)       0         \n",
      " 2D)                                                             \n",
      "                                                                 \n",
      " batch_normalization_8 (Batc  (None, 64, 64, 16)       64        \n",
      " hNormalization)                                                 \n",
      "                                                                 \n",
      " conv2d_7 (Conv2D)           (None, 64, 64, 32)        4640      \n",
      "                                                                 \n",
      " max_pooling2d_7 (MaxPooling  (None, 32, 32, 32)       0         \n",
      " 2D)                                                             \n",
      "                                                                 \n",
      " batch_normalization_9 (Batc  (None, 32, 32, 32)       128       \n",
      " hNormalization)                                                 \n",
      "                                                                 \n",
      " dropout_5 (Dropout)         (None, 32, 32, 32)        0         \n",
      "                                                                 \n",
      " conv2d_8 (Conv2D)           (None, 32, 32, 64)        18496     \n",
      "                                                                 \n",
      " max_pooling2d_8 (MaxPooling  (None, 16, 16, 64)       0         \n",
      " 2D)                                                             \n",
      "                                                                 \n",
      " batch_normalization_10 (Bat  (None, 16, 16, 64)       256       \n",
      " chNormalization)                                                \n",
      "                                                                 \n",
      " dropout_6 (Dropout)         (None, 16, 16, 64)        0         \n",
      "                                                                 \n",
      " conv2d_9 (Conv2D)           (None, 16, 16, 128)       73856     \n",
      "                                                                 \n",
      " max_pooling2d_9 (MaxPooling  (None, 8, 8, 128)        0         \n",
      " 2D)                                                             \n",
      "                                                                 \n",
      " batch_normalization_11 (Bat  (None, 8, 8, 128)        512       \n",
      " chNormalization)                                                \n",
      "                                                                 \n",
      " dropout_7 (Dropout)         (None, 8, 8, 128)         0         \n",
      "                                                                 \n",
      " conv2d_10 (Conv2D)          (None, 8, 8, 256)         295168    \n",
      "                                                                 \n",
      " max_pooling2d_10 (MaxPoolin  (None, 4, 4, 256)        0         \n",
      " g2D)                                                            \n",
      "                                                                 \n",
      " batch_normalization_12 (Bat  (None, 4, 4, 256)        1024      \n",
      " chNormalization)                                                \n",
      "                                                                 \n",
      " dropout_8 (Dropout)         (None, 4, 4, 256)         0         \n",
      "                                                                 \n",
      " conv2d_11 (Conv2D)          (None, 4, 4, 512)         1180160   \n",
      "                                                                 \n",
      " max_pooling2d_11 (MaxPoolin  (None, 2, 2, 512)        0         \n",
      " g2D)                                                            \n",
      "                                                                 \n",
      " batch_normalization_13 (Bat  (None, 2, 2, 512)        2048      \n",
      " chNormalization)                                                \n",
      "                                                                 \n",
      " dropout_9 (Dropout)         (None, 2, 2, 512)         0         \n",
      "                                                                 \n",
      " global_average_pooling2d_1   (None, 512)              0         \n",
      " (GlobalAveragePooling2D)                                        \n",
      "                                                                 \n",
      " dense_1 (Dense)             (None, 2)                 1026      \n",
      "                                                                 \n",
      "=================================================================\n",
      "Total params: 1,577,838\n",
      "Trainable params: 1,575,816\n",
      "Non-trainable params: 2,022\n",
      "_________________________________________________________________\n"
     ]
    }
   ],
   "source": [
    "from keras.layers import Conv2D, MaxPooling2D, GlobalAveragePooling2D\n",
    "from keras.layers import Dropout, Flatten, Dense\n",
    "from keras.models import Sequential\n",
    "from tensorflow.keras.layers import BatchNormalization\n",
    "\"\"\"\n",
    "    Propsoed CNN architecture.\n",
    "    \n",
    "\"\"\"\n",
    "\n",
    "model = Sequential()\n",
    "\n",
    "# Pamameters Initialization\n",
    "input_shape = (128,128,3)\n",
    "activation = 'relu'\n",
    "padding = 'same'\n",
    "droprate = 0.1\n",
    "epsilon = 0.001\n",
    "\n",
    "model = Sequential()\n",
    "model.add(BatchNormalization(input_shape=input_shape))\n",
    "model.add(Conv2D(filters=16, kernel_size=3, activation=activation, padding=padding))\n",
    "model.add(MaxPooling2D(pool_size=2))\n",
    "model.add(BatchNormalization(epsilon=epsilon))\n",
    "\n",
    "\n",
    "model.add(Conv2D(filters=32, kernel_size=3, activation=activation, padding=padding))\n",
    "model.add(MaxPooling2D(pool_size=2))\n",
    "model.add(BatchNormalization(epsilon=epsilon))\n",
    "model.add(Dropout(droprate))\n",
    "\n",
    "model.add(Conv2D(filters=64, kernel_size=3, activation=activation, padding=padding))\n",
    "model.add(MaxPooling2D(pool_size=2))\n",
    "model.add(BatchNormalization(epsilon=epsilon))\n",
    "model.add(Dropout(droprate))\n",
    "\n",
    "model.add(Conv2D(filters =128, kernel_size=3, activation=activation, padding=padding))\n",
    "model.add(MaxPooling2D(pool_size=2))\n",
    "model.add(BatchNormalization(epsilon=epsilon))\n",
    "model.add(Dropout(droprate))\n",
    "\n",
    "model.add(Conv2D(filters=256, kernel_size=3, activation=activation, padding=padding))\n",
    "model.add(MaxPooling2D(pool_size=2))\n",
    "model.add(BatchNormalization(epsilon=epsilon))\n",
    "model.add(Dropout(droprate))\n",
    "\n",
    "model.add(Conv2D(filters=512, kernel_size=3, activation=activation, padding=padding))\n",
    "model.add(MaxPooling2D(pool_size=2))\n",
    "model.add(BatchNormalization(epsilon=epsilon))\n",
    "model.add(Dropout(droprate))\n",
    "\n",
    "model.add(GlobalAveragePooling2D())\n",
    "#model.add(Flatten())\n",
    "#model.add(Dense(256, kernel_initializer='glorot_normal', activation='relu'))\n",
    "#model.add(Dropout(0.5))\n",
    "          \n",
    "#model.add(Dense(128, kernel_initializer='glorot_normal', activation='relu'))\n",
    "#model.add(Dropout(0.5))\n",
    "#model.add(Dropout(droprate))\n",
    "model.add(Dense(2, activation='softmax'))\n",
    "\n",
    "model.summary() # Summary of the architecture"
   ]
  },
  {
   "cell_type": "code",
   "execution_count": 17,
   "id": "f4df3c62-4e0b-4fa8-b713-a8ea1ca82196",
   "metadata": {},
   "outputs": [],
   "source": [
    "epochs = 20\n",
    "batch_size = 32\n",
    "init_lr = 1e-4\n",
    "optimizer = Adam(learning_rate = init_lr, decay = init_lr/epochs)"
   ]
  },
  {
   "cell_type": "code",
   "execution_count": 18,
   "id": "ad00adca-29c6-4528-b166-900762217498",
   "metadata": {},
   "outputs": [],
   "source": [
    "model.compile(loss='binary_crossentropy',optimizer=optimizer, metrics=['accuracy'])"
   ]
  },
  {
   "cell_type": "code",
   "execution_count": 19,
   "id": "c480f6b3-768b-41bd-8930-49352c5151e1",
   "metadata": {},
   "outputs": [
    {
     "name": "stdout",
     "output_type": "stream",
     "text": [
      "Epoch 1/20\n",
      "971/971 [==============================] - 172s 176ms/step - loss: 0.4884 - accuracy: 0.7674 - val_loss: 0.4367 - val_accuracy: 0.7900\n",
      "Epoch 2/20\n",
      "971/971 [==============================] - 153s 158ms/step - loss: 0.4205 - accuracy: 0.8004 - val_loss: 0.4012 - val_accuracy: 0.8107\n",
      "Epoch 3/20\n",
      "971/971 [==============================] - 155s 160ms/step - loss: 0.3924 - accuracy: 0.8136 - val_loss: 0.3969 - val_accuracy: 0.8044\n",
      "Epoch 4/20\n",
      "971/971 [==============================] - 156s 160ms/step - loss: 0.3683 - accuracy: 0.8282 - val_loss: 0.3664 - val_accuracy: 0.8272\n",
      "Epoch 5/20\n",
      "971/971 [==============================] - 156s 161ms/step - loss: 0.3454 - accuracy: 0.8403 - val_loss: 0.3777 - val_accuracy: 0.8282\n",
      "Epoch 6/20\n",
      "971/971 [==============================] - 156s 161ms/step - loss: 0.3261 - accuracy: 0.8487 - val_loss: 0.3405 - val_accuracy: 0.8376\n",
      "Epoch 7/20\n",
      "971/971 [==============================] - 156s 160ms/step - loss: 0.3042 - accuracy: 0.8608 - val_loss: 0.3589 - val_accuracy: 0.8375\n",
      "Epoch 8/20\n",
      "971/971 [==============================] - 155s 159ms/step - loss: 0.2837 - accuracy: 0.8708 - val_loss: 0.3453 - val_accuracy: 0.8420\n",
      "Epoch 9/20\n",
      "971/971 [==============================] - 156s 161ms/step - loss: 0.2645 - accuracy: 0.8822 - val_loss: 0.3566 - val_accuracy: 0.8400\n",
      "Epoch 10/20\n",
      "971/971 [==============================] - 156s 160ms/step - loss: 0.2389 - accuracy: 0.8950 - val_loss: 0.3355 - val_accuracy: 0.8492\n",
      "Epoch 11/20\n",
      "971/971 [==============================] - 156s 161ms/step - loss: 0.2234 - accuracy: 0.9048 - val_loss: 0.3417 - val_accuracy: 0.8474\n",
      "Epoch 12/20\n",
      "971/971 [==============================] - 155s 160ms/step - loss: 0.2003 - accuracy: 0.9142 - val_loss: 0.3392 - val_accuracy: 0.8495\n",
      "Epoch 13/20\n",
      "971/971 [==============================] - 165s 170ms/step - loss: 0.1837 - accuracy: 0.9245 - val_loss: 0.3768 - val_accuracy: 0.8451\n",
      "Epoch 14/20\n",
      "971/971 [==============================] - 160s 165ms/step - loss: 0.1655 - accuracy: 0.9326 - val_loss: 0.3347 - val_accuracy: 0.8567\n",
      "Epoch 15/20\n",
      "971/971 [==============================] - 161s 166ms/step - loss: 0.1508 - accuracy: 0.9386 - val_loss: 0.3646 - val_accuracy: 0.8525\n",
      "Epoch 16/20\n",
      "971/971 [==============================] - 155s 160ms/step - loss: 0.1392 - accuracy: 0.9437 - val_loss: 0.3610 - val_accuracy: 0.8507\n",
      "Epoch 17/20\n",
      "971/971 [==============================] - 156s 160ms/step - loss: 0.1240 - accuracy: 0.9518 - val_loss: 0.3810 - val_accuracy: 0.8501\n",
      "Epoch 18/20\n",
      "971/971 [==============================] - 156s 161ms/step - loss: 0.1154 - accuracy: 0.9559 - val_loss: 0.3980 - val_accuracy: 0.8476\n",
      "Epoch 19/20\n",
      "971/971 [==============================] - 156s 161ms/step - loss: 0.1038 - accuracy: 0.9615 - val_loss: 0.3594 - val_accuracy: 0.8572\n",
      "Epoch 20/20\n",
      "971/971 [==============================] - 156s 161ms/step - loss: 0.0963 - accuracy: 0.9639 - val_loss: 0.4412 - val_accuracy: 0.8519\n"
     ]
    }
   ],
   "source": [
    "hist = model.fit(X_train, Y_train, batch_size = batch_size, epochs = epochs, validation_data= (X_val, Y_val))"
   ]
  },
  {
   "cell_type": "code",
   "execution_count": 20,
   "id": "2b573a94-311a-4415-a296-539a7d86b320",
   "metadata": {},
   "outputs": [
    {
     "data": {
      "image/png": "[encoded data removed]",
      "text/plain": [
       "<Figure size 640x480 with 2 Axes>"
      ]
     },
     "metadata": {},
     "output_type": "display_data"
    }
   ],
   "source": [
    "# Plot the loss and accuracy curves for training and validation \n",
    "fig, ax = plt.subplots(2,1)\n",
    "ax[0].plot(hist.history['loss'], color='b', label=\"Training loss\")\n",
    "ax[0].plot(hist.history['val_loss'], color='r', label=\"validation loss\")\n",
    "legend = ax[0].legend(loc='best', shadow=True)\n",
    "\n",
    "ax[1].plot(hist.history['accuracy'], color='b', label=\"Training accuracy\")\n",
    "ax[1].plot(hist.history['val_accuracy'], color='r',label=\"Validation accuracy\")\n",
    "legend = ax[1].legend(loc='best', shadow=True)"
   ]
  },
  {
   "cell_type": "code",
   "execution_count": 21,
   "id": "d4a01c95-a9b0-4b51-bcf8-cbaafd8ec9e4",
   "metadata": {},
   "outputs": [],
   "source": [
    "def plot_confusion_matrix(cm, classes,\n",
    "                          normalize=False,\n",
    "                          title='Confusion matrix',\n",
    "                          cmap=plt.cm.Blues):\n",
    "    \"\"\"\n",
    "    This function prints and plots the confusion matrix.\n",
    "    Normalization can be applied by setting `normalize=True`.\n",
    "    \"\"\"\n",
    "    plt.imshow(cm, interpolation='nearest', cmap=cmap)\n",
    "    plt.title(title)\n",
    "    plt.colorbar()\n",
    "    tick_marks = np.arange(len(classes))\n",
    "    plt.xticks(tick_marks, classes, rotation=45)\n",
    "    plt.yticks(tick_marks, classes)\n",
    "\n",
    "    if normalize:\n",
    "        cm = cm.astype('float') / cm.sum(axis=1)[:, np.newaxis]\n",
    "\n",
    "    thresh = cm.max() / 2.\n",
    "    for i, j in itertools.product(range(cm.shape[0]), range(cm.shape[1])):\n",
    "        plt.text(j, i, cm[i, j],\n",
    "                 horizontalalignment=\"center\",\n",
    "                 color=\"black\" if cm[i, j] > thresh else \"black\")\n",
    "\n",
    "    plt.tight_layout()\n",
    "    plt.ylabel('True label')\n",
    "    plt.xlabel('Predicted label')"
   ]
  },
  {
   "cell_type": "code",
   "execution_count": 22,
   "id": "578a9028-d5fc-4d9b-8af8-0b558560bdc7",
   "metadata": {},
   "outputs": [
    {
     "name": "stdout",
     "output_type": "stream",
     "text": [
      "243/243 [==============================] - 9s 37ms/step\n"
     ]
    },
    {
     "data": {
      "image/png": "[encoded data removed]",
      "text/plain": [
       "<Figure size 640x480 with 2 Axes>"
      ]
     },
     "metadata": {},
     "output_type": "display_data"
    }
   ],
   "source": [
    "# Predict the values from the validation dataset\n",
    "Y_pred = model.predict(X_val)\n",
    "# Convert predictions classes to one hot vectors \n",
    "Y_pred_classes = np.argmax(Y_pred,axis = 1) \n",
    "# Convert validation observations to one hot vectors\n",
    "Y_true = np.argmax(Y_val,axis = 1) \n",
    "# compute the confusion matrix\n",
    "confusion_mtx = confusion_matrix(Y_true, Y_pred_classes) \n",
    "# plot the confusion matrix\n",
    "plot_confusion_matrix(confusion_mtx, classes = range(2))"
   ]
  },
  {
   "cell_type": "code",
   "execution_count": 23,
   "id": "5494556c-72e1-4f6a-bf31-01f50b68d7f6",
   "metadata": {},
   "outputs": [
    {
     "name": "stdout",
     "output_type": "stream",
     "text": [
      "243/243 [==============================] - 9s 38ms/step - loss: 0.4412 - accuracy: 0.8519\n",
      "Loss Value :  0.44119322299957275\n",
      "Accuracy :  0.8519377112388611\n"
     ]
    }
   ],
   "source": [
    "# model performance\n",
    "score = model.evaluate(x= X_val, y= Y_val, batch_size=32)\n",
    "acc = score[1]\n",
    "err = 1 - acc\n",
    "print(\"Loss Value : \", score[0])\n",
    "print(\"Accuracy : \", score[1])"
   ]
  },
  {
   "cell_type": "code",
   "execution_count": 24,
   "id": "cf99ec00-66f4-45ac-ae0d-e1267e4e5ecd",
   "metadata": {},
   "outputs": [
    {
     "data": {
      "text/plain": [
       "10180"
      ]
     },
     "execution_count": 24,
     "metadata": {},
     "output_type": "execute_result"
    }
   ],
   "source": [
    "model_structure = model.to_json()\n",
    "f = Path(\"models/model_structure-v4.json\")\n",
    "f.write_text(model_structure)"
   ]
  },
  {
   "cell_type": "code",
   "execution_count": 25,
   "id": "286426e6-a572-456a-a4c1-e3d906af1620",
   "metadata": {},
   "outputs": [],
   "source": [
    "model.save_weights(\"models/model_weights-v4.h5\")"
   ]
  },
  {
   "cell_type": "code",
   "execution_count": 26,
   "id": "e1f44af1-027e-47c2-9f9e-2f4f4dc6d475",
   "metadata": {},
   "outputs": [
    {
     "name": "stdout",
     "output_type": "stream",
     "text": [
      "Model: \"sequential_3\"\n",
      "_________________________________________________________________\n",
      " Layer (type)                Output Shape              Param #   \n",
      "=================================================================\n",
      " batch_normalization_7 (Batc  (None, 128, 128, 3)      12        \n",
      " hNormalization)                                                 \n",
      "                                                                 \n",
      " conv2d_6 (Conv2D)           (None, 128, 128, 16)      448       \n",
      "                                                                 \n",
      " max_pooling2d_6 (MaxPooling  (None, 64, 64, 16)       0         \n",
      " 2D)                                                             \n",
      "                                                                 \n",
      " batch_normalization_8 (Batc  (None, 64, 64, 16)       64        \n",
      " hNormalization)                                                 \n",
      "                                                                 \n",
      " conv2d_7 (Conv2D)           (None, 64, 64, 32)        4640      \n",
      "                                                                 \n",
      " max_pooling2d_7 (MaxPooling  (None, 32, 32, 32)       0         \n",
      " 2D)                                                             \n",
      "                                                                 \n",
      " batch_normalization_9 (Batc  (None, 32, 32, 32)       128       \n",
      " hNormalization)                                                 \n",
      "                                                                 \n",
      " dropout_5 (Dropout)         (None, 32, 32, 32)        0         \n",
      "                                                                 \n",
      " conv2d_8 (Conv2D)           (None, 32, 32, 64)        18496     \n",
      "                                                                 \n",
      " max_pooling2d_8 (MaxPooling  (None, 16, 16, 64)       0         \n",
      " 2D)                                                             \n",
      "                                                                 \n",
      " batch_normalization_10 (Bat  (None, 16, 16, 64)       256       \n",
      " chNormalization)                                                \n",
      "                                                                 \n",
      " dropout_6 (Dropout)         (None, 16, 16, 64)        0         \n",
      "                                                                 \n",
      " conv2d_9 (Conv2D)           (None, 16, 16, 128)       73856     \n",
      "                                                                 \n",
      " max_pooling2d_9 (MaxPooling  (None, 8, 8, 128)        0         \n",
      " 2D)                                                             \n",
      "                                                                 \n",
      " batch_normalization_11 (Bat  (None, 8, 8, 128)        512       \n",
      " chNormalization)                                                \n",
      "                                                                 \n",
      " dropout_7 (Dropout)         (None, 8, 8, 128)         0         \n",
      "                                                                 \n",
      " conv2d_10 (Conv2D)          (None, 8, 8, 256)         295168    \n",
      "                                                                 \n",
      " max_pooling2d_10 (MaxPoolin  (None, 4, 4, 256)        0         \n",
      " g2D)                                                            \n",
      "                                                                 \n",
      " batch_normalization_12 (Bat  (None, 4, 4, 256)        1024      \n",
      " chNormalization)                                                \n",
      "                                                                 \n",
      " dropout_8 (Dropout)         (None, 4, 4, 256)         0         \n",
      "                                                                 \n",
      " conv2d_11 (Conv2D)          (None, 4, 4, 512)         1180160   \n",
      "                                                                 \n",
      " max_pooling2d_11 (MaxPoolin  (None, 2, 2, 512)        0         \n",
      " g2D)                                                            \n",
      "                                                                 \n",
      " batch_normalization_13 (Bat  (None, 2, 2, 512)        2048      \n",
      " chNormalization)                                                \n",
      "                                                                 \n",
      " dropout_9 (Dropout)         (None, 2, 2, 512)         0         \n",
      "                                                                 \n",
      " global_average_pooling2d_1   (None, 512)              0         \n",
      " (GlobalAveragePooling2D)                                        \n",
      "                                                                 \n",
      " dense_1 (Dense)             (None, 2)                 1026      \n",
      "                                                                 \n",
      "=================================================================\n",
      "Total params: 1,577,838\n",
      "Trainable params: 1,575,816\n",
      "Non-trainable params: 2,022\n",
      "_________________________________________________________________\n"
     ]
    }
   ],
   "source": [
    "model.summary()"
   ]
  },
  {
   "cell_type": "code",
   "execution_count": null,
   "id": "10fd61ad-85b4-456d-b706-b7b158d41f5c",
   "metadata": {},
   "outputs": [],
   "source": []
  }
 ],
 "metadata": {
  "kernelspec": {
   "display_name": "Python 3 (ipykernel)",
   "language": "python",
   "name": "python3"
  },
  "language_info": {
   "codemirror_mode": {
    "name": "ipython",
    "version": 3
   },
   "file_extension": ".py",
   "mimetype": "text/x-python",
   "name": "python",
   "nbconvert_exporter": "python",
   "pygments_lexer": "ipython3",
   "version": "3.11.5"
  }
 },
 "nbformat": 4,
 "nbformat_minor": 5
}
